{
 "cells": [
  {
   "cell_type": "code",
   "execution_count": 2,
   "metadata": {},
   "outputs": [
    {
     "ename": "SyntaxError",
     "evalue": "invalid syntax (<ipython-input-2-15391f7d38ce>, line 2)",
     "output_type": "error",
     "traceback": [
      "\u001b[1;36m  File \u001b[1;32m\"<ipython-input-2-15391f7d38ce>\"\u001b[1;36m, line \u001b[1;32m2\u001b[0m\n\u001b[1;33m    (/Tabla, de, verdad, de, OR)\u001b[0m\n\u001b[1;37m     ^\u001b[0m\n\u001b[1;31mSyntaxError\u001b[0m\u001b[1;31m:\u001b[0m invalid syntax\n"
     ]
    }
   ],
   "source": [
    "booleanos=[1,0]\n",
    "//Tabla de verdad de OR\n",
    "\n",
    "print('p\\tq\\tr\\tp or q or r')\n",
    "print('-'*38)\n",
    "for p in double:\n",
    "    for q in booleanos:\n",
    "        for r in booleanos:\n",
    "            print(p, q, r, p or q or r, sep = '\\t')\n",
    "\n",
    "print()\n",
    "\n",
    "\n",
    "booleanos=[1,0]\n",
    "//Tabla de verdad de AND\n",
    "\n",
    "print('p\\tq\\tr\\tp and q and r')\n",
    "print('-'*38)\n",
    "for p in booleanos:\n",
    "    for q in booleanos:\n",
    "        for r in booleanos:\n",
    "            print(p, q, r, p and q and r, sep='\\t')\n",
    "\n",
    "print()\n",
    "\n",
    "\n",
    "booleanos=[1,0]\n",
    "//Tabla de verdad de NOT\n",
    "\n",
    "print('p\\tnot p')\n",
    "print('-'*13)\n",
    "for p in booleanos:\n",
    "    print(p,not p,sep='\\t')\n",
    "    \n",
    "print()    \n",
    "\n",
    "\n",
    "booleanos=[1,0]\n",
    "//Tabla de verdad de Bidireccional (<-->)\n",
    "\n",
    "print('p\\tq\\tr\\tp is q is r')\n",
    "print('-'*38)\n",
    "for p in booleanos:\n",
    "    for q in booleanos:\n",
    "        for r in booleanos:\n",
    "            print(p, q, r, p is q is r, sep='\\t')\n",
    "\n",
    "print()\n"
   ]
  },
  {
   "cell_type": "code",
   "execution_count": null,
   "metadata": {
    "collapsed": true
   },
   "outputs": [],
   "source": []
  },
  {
   "cell_type": "code",
   "execution_count": null,
   "metadata": {
    "collapsed": true
   },
   "outputs": [],
   "source": []
  }
 ],
 "metadata": {
  "kernelspec": {
   "display_name": "Python 3",
   "language": "python",
   "name": "python3"
  },
  "language_info": {
   "codemirror_mode": {
    "name": "ipython",
    "version": 3
   },
   "file_extension": ".py",
   "mimetype": "text/x-python",
   "name": "python",
   "nbconvert_exporter": "python",
   "pygments_lexer": "ipython3",
   "version": "3.6.1"
  }
 },
 "nbformat": 4,
 "nbformat_minor": 2
}
